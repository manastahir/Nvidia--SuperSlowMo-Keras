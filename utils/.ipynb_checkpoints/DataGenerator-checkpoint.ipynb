{
 "cells": [
  {
   "cell_type": "code",
   "execution_count": 1,
   "metadata": {},
   "outputs": [],
   "source": [
    "import cv2\n",
    "import os\n",
    "from random import randint, seed\n",
    "import numpy as np"
   ]
  },
  {
   "cell_type": "code",
   "execution_count": 2,
   "metadata": {},
   "outputs": [],
   "source": [
    "class FrameGenerator():\n",
    "\n",
    "    def __init__(self, height, width, filepath, rand_seed = None):\n",
    "        \n",
    "        self.height = height\n",
    "        self.width = width\n",
    "        self.filepath = filepath\n",
    "\n",
    "        self.video_files = []\n",
    "       \n",
    "        filenames = [f for f in os.listdir(self.filepath)]\n",
    "        self.video_files = [f for f in filenames if any(filetype in f.lower() for filetype in ['.mp4', '.flv', '.webm', '.mov', '.m4v'])]\n",
    "        print(\">> Found {} video files in {}\".format(len(self.video_files), self.filepath))  \n",
    "\n",
    "        if rand_seed:\n",
    "            seed(rand_seed)\n",
    "    \n",
    "    def extract_videoframes(self, seq_len, vid_obj):\n",
    "        count = 0\n",
    "        seq = []\n",
    "        while count < (seq_len): \n",
    "            _, image = vid_obj.read()\n",
    "            image = cv2.resize(image,(self.height,self.width))\n",
    "            seq.append(image)\n",
    "            count += 1\n",
    "        return seq\n",
    "    \n",
    "    def sample(self, size, flip = False):\n",
    "        \n",
    "        vid_obj = cv2.VideoCapture(os.path.join(self.filepath, np.random.choice(self.video_files, 1, replace = True)[0]))\n",
    "        vid_obj.set(cv2.CAP_PROP_POS_AVI_RATIO, 1)\n",
    "        vid_len = vid_obj.get(cv2.CAP_PROP_POS_MSEC)\n",
    "        start  = np.random.randint(0, vid_len - size)\n",
    "        vid_obj.set(cv2.CAP_PROP_POS_MSEC, start)\n",
    "        \n",
    "        sequence = self.extract_videoframes(size, vid_obj)\n",
    "        \n",
    "        if(flip):\n",
    "            sequence = list(reversed(sequence))\n",
    "            \n",
    "        return sequence"
   ]
  }
 ],
 "metadata": {
  "kernelspec": {
   "display_name": "Python 3",
   "language": "python",
   "name": "python3"
  },
  "language_info": {
   "codemirror_mode": {
    "name": "ipython",
    "version": 3
   },
   "file_extension": ".py",
   "mimetype": "text/x-python",
   "name": "python",
   "nbconvert_exporter": "python",
   "pygments_lexer": "ipython3",
   "version": "3.7.3"
  }
 },
 "nbformat": 4,
 "nbformat_minor": 2
}
