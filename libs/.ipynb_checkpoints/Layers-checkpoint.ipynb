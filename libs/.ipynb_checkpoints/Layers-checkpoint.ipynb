{
 "cells": [
  {
   "cell_type": "code",
   "execution_count": 1,
   "metadata": {},
   "outputs": [
    {
     "name": "stderr",
     "output_type": "stream",
     "text": [
      "Using TensorFlow backend.\n"
     ]
    }
   ],
   "source": [
    "from keras import backend as K\n",
    "from keras.layers import Layer, Concatenate\n",
    "import numpy as np\n",
    "from utils import g"
   ]
  },
  {
   "cell_type": "code",
   "execution_count": 2,
   "metadata": {},
   "outputs": [],
   "source": [
    "class flowcomputation(Layer):\n",
    "    \n",
    "    def __init__(self, **kwargs):\n",
    "        super().__init__(**kwargs)\n",
    "\n",
    "    def build(self, input_shape):\n",
    "        return \n",
    "\n",
    "    def call(self, inputs):\n",
    "        \n",
    "        if type(inputs) is not list or len(inputs) != 4:\n",
    "            raise Exception('FlowComputation must be called on a list of four tensors [t, I0, I1, Optical_flow].'\n",
    "                            'Instead got: ' + str(inputs))\n",
    "        t = inputs[0][0]\n",
    "        I0 = inputs[1]\n",
    "        I1 = inputs[2]\n",
    "        Optical_flow = inputs[3]\n",
    "        F01 = Optical_flow[:, :, :, :2]\n",
    "        F10 = Optical_flow[:, :, :, 2:]\n",
    "        \n",
    "        Fhat_t0 = (t - 1) * t * F01 + (t * t) * F10\n",
    "        Fhat_t1 = (1 - t) * (1 - t) * F01 - t * (1 - t) * F10\n",
    "        return Concatenate(axis = 3)([I0, I1, g(I0,Fhat_t0), g(I1, Fhat_t1), Fhat_t0, Fhat_t1])\n",
    "        \n",
    "        \n",
    "    def compute_output_shape(self, input_shape):\n",
    "        output_channels = 3 * 4 + 2 * 2\n",
    "        shape = list(input_shape[1])\n",
    "        return (shape[0], shape[1], shape[2], output_channels)"
   ]
  },
  {
   "cell_type": "code",
   "execution_count": 3,
   "metadata": {},
   "outputs": [],
   "source": [
    "class imagecomputation(Layer):\n",
    "    \n",
    "    def __init__(self, **kwargs):\n",
    "        super().__init__(**kwargs)\n",
    "\n",
    "    def build(self, input_shape):\n",
    "        return \n",
    "\n",
    "    def call(self,inputs):\n",
    "        \n",
    "        if type(inputs) is not list or len(inputs) != 4:\n",
    "            raise Exception('ImageComputation must be called on a list of three tensors [t, I0, I1, interpolation_output].'\n",
    "                            'Instead got: ' + str(inputs))\n",
    "        \n",
    "        if K.int_shape(inputs[3])[3] != 5:\n",
    "            raise Exception('ImageComputation must be with 5 lists in 4th dim'\n",
    "                            'Instead got: ' + str(K.int_shape(inputs[3])[3]))\n",
    "        t = inputs[0][0]\n",
    "        I0 = inputs[1]\n",
    "        I1 = inputs[2]\n",
    "        Ft0 = inputs[3][:, :, :, :2]\n",
    "        Ft1 = inputs[3][:, :, :, 2:4]\n",
    "        Vt0 = inputs[3][:, :, :, 4:]\n",
    "        Vt1 = 1 - Vt0\n",
    "        It = (1 - t)* Vt0 * g(I0, Ft0) + t * Vt1 * g(I1, Ft1)\n",
    "        Z = (1 - t) * Vt0 + t * Vt1\n",
    "        It = It / Z\n",
    "        return It\n",
    "        \n",
    "        \n",
    "    def compute_output_shape(self, input_shapes):\n",
    "        shape = list(input_shapes[1])\n",
    "        return (tuple(shape))"
   ]
  }
 ],
 "metadata": {
  "kernelspec": {
   "display_name": "Python 3",
   "language": "python",
   "name": "python3"
  },
  "language_info": {
   "codemirror_mode": {
    "name": "ipython",
    "version": 3
   },
   "file_extension": ".py",
   "mimetype": "text/x-python",
   "name": "python",
   "nbconvert_exporter": "python",
   "pygments_lexer": "ipython3",
   "version": "3.7.3"
  }
 },
 "nbformat": 4,
 "nbformat_minor": 2
}
